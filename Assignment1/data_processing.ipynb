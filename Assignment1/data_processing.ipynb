{
 "cells": [
  {
   "cell_type": "code",
   "execution_count": null,
   "id": "19284d89-70a7-41ec-b80b-620405dfb7fa",
   "metadata": {
    "editable": true,
    "slideshow": {
     "slide_type": ""
    },
    "tags": []
   },
   "outputs": [],
   "source": [
    "import pandas as pd\n",
    "import os\n",
    "import glob\n",
    "import pandas as pd\n",
    "import matplotlib.pyplot as plt\n",
    "import numpy as np\n",
    "import random\n",
    "from datetime import datetime, timedelta\n",
    "from dateutil.relativedelta import relativedelta\n",
    "import pprint\n",
    "import pyspark\n",
    "import pyspark.sql.functions as F\n",
    "\n",
    "from pyspark.sql.functions import col\n",
    "from pyspark.sql.types import StringType, IntegerType, FloatType, DateType\n",
    "\n",
    "import utils.data_processing_bronze_table\n",
    "import utils.data_processing_silver_table\n",
    "import utils.data_processing_gold_table\n"
   ]
  },
  {
   "cell_type": "code",
   "execution_count": null,
   "id": "b05cc7fb-9b8b-4f90-bbe7-63e1e4d3728f",
   "metadata": {
    "editable": true,
    "slideshow": {
     "slide_type": ""
    },
    "tags": []
   },
   "outputs": [],
   "source": [
    "# Initialize SparkSession\n",
    "spark = pyspark.sql.SparkSession.builder \\\n",
    "    .appName(\"dev\") \\\n",
    "    .master(\"local[*]\") \\\n",
    "    .getOrCreate()\n",
    "\n",
    "# Set log level to ERROR to hide warnings\n",
    "spark.sparkContext.setLogLevel(\"ERROR\")"
   ]
  },
  {
   "cell_type": "markdown",
   "id": "e454d755",
   "metadata": {},
   "source": [
    "<H2>Read files"
   ]
  },
  {
   "cell_type": "code",
   "execution_count": 3,
   "id": "d574c978",
   "metadata": {},
   "outputs": [],
   "source": [
    "clickstream_df = spark.read.csv(\"data/feature_clickstream.csv\", header=True, inferSchema=True)\n",
    "attributes_df = spark.read.csv(\"data/features_attributes.csv\", header=True, inferSchema=True)\n",
    "financials_df = spark.read.csv(\"data/features_financials.csv\", header=True, inferSchema=True)\n",
    "loans_df = spark.read.csv(\"data/lms_loan_daily.csv\", header=True, inferSchema=True)"
   ]
  },
  {
   "cell_type": "markdown",
   "id": "d6b0c639-67c5-4cd8-9b52-2312fc0efe5a",
   "metadata": {},
   "source": [
    "<H2> BUILD Bronze DB</H2>"
   ]
  },
  {
   "cell_type": "code",
   "execution_count": 4,
   "id": "e75f634c-1e28-461c-b804-bb74be2fcecd",
   "metadata": {},
   "outputs": [
    {
     "data": {
      "text/plain": [
       "(DataFrame[fe_1: int, fe_2: int, fe_3: int, fe_4: int, fe_5: int, fe_6: int, fe_7: int, fe_8: int, fe_9: int, fe_10: int, fe_11: int, fe_12: int, fe_13: int, fe_14: int, fe_15: int, fe_16: int, fe_17: int, fe_18: int, fe_19: int, fe_20: int, Customer_ID: string, snapshot_date: date, year: int, month: int],\n",
       " DataFrame[Customer_ID: string, Name: string, Age: string, SSN: string, Occupation: string, snapshot_date: date, year: int, month: int],\n",
       " DataFrame[Customer_ID: string, Annual_Income: string, Monthly_Inhand_Salary: double, Num_Bank_Accounts: int, Num_Credit_Card: int, Interest_Rate: int, Num_of_Loan: string, Type_of_Loan: string, Delay_from_due_date: int, Num_of_Delayed_Payment: string, Changed_Credit_Limit: string, Num_Credit_Inquiries: double, Credit_Mix: string, Outstanding_Debt: string, Credit_Utilization_Ratio: double, Credit_History_Age: string, Payment_of_Min_Amount: string, Total_EMI_per_month: double, Amount_invested_monthly: string, Payment_Behaviour: string, Monthly_Balance: string, snapshot_date: date, year: int, month: int],\n",
       " DataFrame[loan_id: string, Customer_ID: string, loan_start_date: date, tenure: int, installment_num: int, loan_amt: int, due_amt: double, paid_amt: double, overdue_amt: double, balance: double, snapshot_date: date, year: int, month: int])"
      ]
     },
     "execution_count": 4,
     "metadata": {},
     "output_type": "execute_result"
    }
   ],
   "source": [
    "bronze_directory = \"datamart/bronze\"\n",
    "if not os.path.exists(bronze_directory):\n",
    "    os.makedirs(bronze_directory)\n",
    "\n",
    "utils.data_processing_bronze_table.process_bronze_table(bronze_directory, clickstream_df, attributes_df, financials_df, loans_df)"
   ]
  },
  {
   "cell_type": "markdown",
   "id": "51aedd18-8efc-4f2e-8762-cddf4b054942",
   "metadata": {},
   "source": [
    "<h2>Build Silver DB</h2>"
   ]
  },
  {
   "cell_type": "code",
   "execution_count": 5,
   "id": "cd10f9e7-e8d5-4118-aeae-e34432768543",
   "metadata": {},
   "outputs": [
    {
     "name": "stdout",
     "output_type": "stream",
     "text": [
      "Starting Silver Layer Processing...\n",
      "Cleaning clickstream data...\n",
      "Cleaning attributes data...\n",
      "Cleaning financial data...\n",
      "Cleaning loans data...\n",
      "Creating loan customer monthly aggregations...\n",
      "Silver Layer Processing Completed\n"
     ]
    },
    {
     "data": {
      "text/plain": [
       "(DataFrame[fe_1: int, fe_2: int, fe_3: int, fe_4: int, fe_5: int, fe_6: int, fe_7: int, fe_8: int, fe_9: int, fe_10: int, fe_11: int, fe_12: int, fe_13: int, fe_14: int, fe_15: int, fe_16: int, fe_17: int, fe_18: int, fe_19: int, fe_20: int, Customer_ID: string, snapshot_date: date, year: int, month: int, total_activity: int, avg_activity: double, positive_features: int, negative_features: int],\n",
       " DataFrame[Customer_ID: string, Name: string, Age: int, SSN: string, Occupation: string, snapshot_date: date, year: int, month: int],\n",
       " DataFrame[Customer_ID: string, Annual_Income: double, Monthly_Inhand_Salary: double, Num_Bank_Accounts: int, Num_Credit_Card: int, Interest_Rate: int, Num_of_Loan: double, Type_of_Loan: string, Delay_from_due_date: int, Num_of_Delayed_Payment: double, Changed_Credit_Limit: string, Num_Credit_Inquiries: double, Credit_Mix: string, Outstanding_Debt: double, Credit_Utilization_Ratio: double, Credit_History_Age: string, Payment_of_Min_Amount: string, Total_EMI_per_month: double, Amount_invested_monthly: double, Payment_Behaviour: string, Monthly_Balance: double, snapshot_date: date, year: int, month: int, debt_to_income_ratio: double, monthly_savings_rate: double],\n",
       " DataFrame[Customer_ID: string, year: int, month: int, snapshot_date: date, total_loan_amount: double, total_outstanding_balance: double, total_paid_amount: double, total_overdue_amount: double, overdue_installments_count: bigint, total_installments: bigint, max_overdue_ratio: double, overdue_rate: double, utilization_rate: double])"
      ]
     },
     "execution_count": 5,
     "metadata": {},
     "output_type": "execute_result"
    }
   ],
   "source": [
    "silver_directory = f\"datamart/silver\"\n",
    "if not os.path.exists(silver_directory):\n",
    "    os.makedirs(silver_directory)\n",
    "    \n",
    "utils.data_processing_silver_table.process_silver_table(silver_directory, bronze_directory, spark)"
   ]
  },
  {
   "cell_type": "markdown",
   "id": "acd72317-a21d-4bb4-83ba-2fe2c1963113",
   "metadata": {},
   "source": [
    "<h2> Build Gold DB</h2>"
   ]
  },
  {
   "cell_type": "code",
   "execution_count": 6,
   "id": "0f559912-aaaa-4870-85c2-3b3f9232f00c",
   "metadata": {},
   "outputs": [
    {
     "name": "stdout",
     "output_type": "stream",
     "text": [
      "Starting Gold Layer Processing...\n",
      "Creating Customer 360 view...\n",
      "Creating Loan Portfolio Summary...\n"
     ]
    },
    {
     "name": "stderr",
     "output_type": "stream",
     "text": [
      "                                                                                "
     ]
    },
    {
     "name": "stdout",
     "output_type": "stream",
     "text": [
      "Gold Layer Processing Completed\n"
     ]
    }
   ],
   "source": [
    "gold_directory = f\"datamart/gold\"\n",
    "if not os.path.exists(gold_directory):\n",
    "    os.makedirs(gold_directory)\n",
    "    \n",
    "utils.data_processing_gold_table.process_gold_table(gold_directory, silver_directory, spark)"
   ]
  },
  {
   "cell_type": "code",
   "execution_count": null,
   "id": "45df571f-b71c-497f-b013-aa644a76cda6",
   "metadata": {},
   "outputs": [],
   "source": []
  }
 ],
 "metadata": {
  "kernelspec": {
   "display_name": "Python 3 (ipykernel)",
   "language": "python",
   "name": "python3"
  },
  "language_info": {
   "codemirror_mode": {
    "name": "ipython",
    "version": 3
   },
   "file_extension": ".py",
   "mimetype": "text/x-python",
   "name": "python",
   "nbconvert_exporter": "python",
   "pygments_lexer": "ipython3",
   "version": "3.12.10"
  }
 },
 "nbformat": 4,
 "nbformat_minor": 5
}
